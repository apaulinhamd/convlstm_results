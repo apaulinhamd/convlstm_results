{
 "cells": [
  {
   "cell_type": "code",
   "execution_count": 1,
   "id": "2ca5f84c",
   "metadata": {},
   "outputs": [
    {
     "name": "stderr",
     "output_type": "stream",
     "text": [
      "Using TensorFlow backend.\n"
     ]
    }
   ],
   "source": [
    "import pandas as pd\n",
    "import numpy as np\n",
    "from pandas import DataFrame\n",
    "from tabulate import tabulate\n",
    "from diniz_fts import *"
   ]
  },
  {
   "cell_type": "markdown",
   "id": "81b014ca",
   "metadata": {},
   "source": [
    "Load dataset:"
   ]
  },
  {
   "cell_type": "code",
   "execution_count": 2,
   "id": "eb80d0c7",
   "metadata": {},
   "outputs": [],
   "source": [
    "df = pd.read_csv('./dataset_.csv')\n",
    "X = df.values\n",
    "X = X.astype('float32')"
   ]
  },
  {
   "cell_type": "markdown",
   "id": "8e10ba1d",
   "metadata": {},
   "source": [
    "Visualization of variables:"
   ]
  },
  {
   "cell_type": "code",
   "execution_count": 3,
   "id": "d8fb01de",
   "metadata": {},
   "outputs": [
    {
     "data": {
      "text/html": [
       "<div>\n",
       "<style scoped>\n",
       "    .dataframe tbody tr th:only-of-type {\n",
       "        vertical-align: middle;\n",
       "    }\n",
       "\n",
       "    .dataframe tbody tr th {\n",
       "        vertical-align: top;\n",
       "    }\n",
       "\n",
       "    .dataframe thead th {\n",
       "        text-align: right;\n",
       "    }\n",
       "</style>\n",
       "<table border=\"1\" class=\"dataframe\">\n",
       "  <thead>\n",
       "    <tr style=\"text-align: right;\">\n",
       "      <th></th>\n",
       "      <th>Casting Spd</th>\n",
       "      <th>Mold Lvl</th>\n",
       "      <th>Gate Opn.</th>\n",
       "      <th>Tundish</th>\n",
       "    </tr>\n",
       "  </thead>\n",
       "  <tbody>\n",
       "    <tr>\n",
       "      <th>count</th>\n",
       "      <td>3.054426e+06</td>\n",
       "      <td>3.054426e+06</td>\n",
       "      <td>3.054426e+06</td>\n",
       "      <td>3.054426e+06</td>\n",
       "    </tr>\n",
       "    <tr>\n",
       "      <th>mean</th>\n",
       "      <td>1.188411e+00</td>\n",
       "      <td>1.007837e+02</td>\n",
       "      <td>7.063924e+01</td>\n",
       "      <td>5.513210e+00</td>\n",
       "    </tr>\n",
       "    <tr>\n",
       "      <th>std</th>\n",
       "      <td>2.208997e-01</td>\n",
       "      <td>8.715239e+00</td>\n",
       "      <td>4.749716e+00</td>\n",
       "      <td>4.998255e-01</td>\n",
       "    </tr>\n",
       "    <tr>\n",
       "      <th>min</th>\n",
       "      <td>0.000000e+00</td>\n",
       "      <td>3.416350e+01</td>\n",
       "      <td>-2.888620e-02</td>\n",
       "      <td>5.000000e+00</td>\n",
       "    </tr>\n",
       "    <tr>\n",
       "      <th>25%</th>\n",
       "      <td>1.008350e+00</td>\n",
       "      <td>9.938640e+01</td>\n",
       "      <td>6.753560e+01</td>\n",
       "      <td>5.000000e+00</td>\n",
       "    </tr>\n",
       "    <tr>\n",
       "      <th>50%</th>\n",
       "      <td>1.180000e+00</td>\n",
       "      <td>1.000180e+02</td>\n",
       "      <td>7.087970e+01</td>\n",
       "      <td>6.000000e+00</td>\n",
       "    </tr>\n",
       "    <tr>\n",
       "      <th>75%</th>\n",
       "      <td>1.350000e+00</td>\n",
       "      <td>1.006580e+02</td>\n",
       "      <td>7.377410e+01</td>\n",
       "      <td>6.000000e+00</td>\n",
       "    </tr>\n",
       "    <tr>\n",
       "      <th>max</th>\n",
       "      <td>1.710000e+00</td>\n",
       "      <td>2.000000e+02</td>\n",
       "      <td>1.023190e+02</td>\n",
       "      <td>6.000000e+00</td>\n",
       "    </tr>\n",
       "  </tbody>\n",
       "</table>\n",
       "</div>"
      ],
      "text/plain": [
       "        Casting Spd      Mold Lvl     Gate Opn.       Tundish\n",
       "count  3.054426e+06  3.054426e+06  3.054426e+06  3.054426e+06\n",
       "mean   1.188411e+00  1.007837e+02  7.063924e+01  5.513210e+00\n",
       "std    2.208997e-01  8.715239e+00  4.749716e+00  4.998255e-01\n",
       "min    0.000000e+00  3.416350e+01 -2.888620e-02  5.000000e+00\n",
       "25%    1.008350e+00  9.938640e+01  6.753560e+01  5.000000e+00\n",
       "50%    1.180000e+00  1.000180e+02  7.087970e+01  6.000000e+00\n",
       "75%    1.350000e+00  1.006580e+02  7.377410e+01  6.000000e+00\n",
       "max    1.710000e+00  2.000000e+02  1.023190e+02  6.000000e+00"
      ]
     },
     "execution_count": 3,
     "metadata": {},
     "output_type": "execute_result"
    }
   ],
   "source": [
    "# X is composed of the 4 input variables shifted at time t=120, as described in the article,\n",
    "# therefore, each line of X is composed of 480 samples (120x4) + 2 columns representing the output.\n",
    "# The output (clogging or non-clogging) is represented by [1 0] and [0 1], respectively.\n",
    "# now, we will present the 4 input variables and the output, as well as general parameters.\n",
    "Xp = pd.DataFrame(X)\n",
    "inputs = pd.DataFrame({'Casting Spd':Xp[0],'Mold Lvl':Xp[1],'Gate Opn.':Xp[2],'Tundish':Xp[3]})\n",
    "outputs = pd.DataFrame({'Clogging':Xp[Xp.shape[1]-2], 'Normal':Xp[Xp.shape[1]-1]})\n",
    "\n",
    "inputs.describe()\n"
   ]
  },
  {
   "cell_type": "code",
   "execution_count": 4,
   "id": "a6dd266a",
   "metadata": {},
   "outputs": [
    {
     "data": {
      "text/html": [
       "<div>\n",
       "<style scoped>\n",
       "    .dataframe tbody tr th:only-of-type {\n",
       "        vertical-align: middle;\n",
       "    }\n",
       "\n",
       "    .dataframe tbody tr th {\n",
       "        vertical-align: top;\n",
       "    }\n",
       "\n",
       "    .dataframe thead th {\n",
       "        text-align: right;\n",
       "    }\n",
       "</style>\n",
       "<table border=\"1\" class=\"dataframe\">\n",
       "  <thead>\n",
       "    <tr style=\"text-align: right;\">\n",
       "      <th></th>\n",
       "      <th>Casting Spd</th>\n",
       "      <th>Mold Lvl</th>\n",
       "      <th>Gate Opn.</th>\n",
       "      <th>Tundish</th>\n",
       "    </tr>\n",
       "  </thead>\n",
       "  <tbody>\n",
       "    <tr>\n",
       "      <th>0</th>\n",
       "      <td>1.20000</td>\n",
       "      <td>100.542000</td>\n",
       "      <td>70.076103</td>\n",
       "      <td>5.0</td>\n",
       "    </tr>\n",
       "    <tr>\n",
       "      <th>1</th>\n",
       "      <td>1.19254</td>\n",
       "      <td>100.589996</td>\n",
       "      <td>68.787804</td>\n",
       "      <td>5.0</td>\n",
       "    </tr>\n",
       "    <tr>\n",
       "      <th>2</th>\n",
       "      <td>1.19725</td>\n",
       "      <td>100.617996</td>\n",
       "      <td>68.397697</td>\n",
       "      <td>5.0</td>\n",
       "    </tr>\n",
       "    <tr>\n",
       "      <th>3</th>\n",
       "      <td>1.19314</td>\n",
       "      <td>100.646004</td>\n",
       "      <td>69.981903</td>\n",
       "      <td>5.0</td>\n",
       "    </tr>\n",
       "    <tr>\n",
       "      <th>4</th>\n",
       "      <td>1.19000</td>\n",
       "      <td>101.015999</td>\n",
       "      <td>69.698196</td>\n",
       "      <td>5.0</td>\n",
       "    </tr>\n",
       "  </tbody>\n",
       "</table>\n",
       "</div>"
      ],
      "text/plain": [
       "   Casting Spd    Mold Lvl  Gate Opn.  Tundish\n",
       "0      1.20000  100.542000  70.076103      5.0\n",
       "1      1.19254  100.589996  68.787804      5.0\n",
       "2      1.19725  100.617996  68.397697      5.0\n",
       "3      1.19314  100.646004  69.981903      5.0\n",
       "4      1.19000  101.015999  69.698196      5.0"
      ]
     },
     "execution_count": 4,
     "metadata": {},
     "output_type": "execute_result"
    }
   ],
   "source": [
    "inputs.head()"
   ]
  },
  {
   "cell_type": "code",
   "execution_count": 5,
   "id": "a8638627",
   "metadata": {},
   "outputs": [
    {
     "name": "stdout",
     "output_type": "stream",
     "text": [
      "------------  -------  --\n",
      "Output        Count    %\n",
      "Clogging      203186   7\n",
      "Non-Clogging  2851240  93\n",
      "------------  -------  --\n"
     ]
    }
   ],
   "source": [
    "# Presentation of the % of samples classified as Clogging and Normal:\n",
    "n_clog = outputs.Clogging[outputs.Clogging == 1].sum()  \n",
    "n_normal = outputs.Normal[outputs.Normal == 1].sum()  \n",
    "\n",
    "table = [['Output', 'Count', '%'], \n",
    "         ['Clogging', int(n_clog),  round(100*n_clog/(n_clog+n_normal))], \n",
    "         ['Non-Clogging', int(n_normal), round(100*n_normal/(n_clog+n_normal))]]\n",
    "print(tabulate(table))"
   ]
  },
  {
   "cell_type": "code",
   "execution_count": 6,
   "id": "2cde47f5",
   "metadata": {},
   "outputs": [
    {
     "data": {
      "text/html": [
       "<div>\n",
       "<style scoped>\n",
       "    .dataframe tbody tr th:only-of-type {\n",
       "        vertical-align: middle;\n",
       "    }\n",
       "\n",
       "    .dataframe tbody tr th {\n",
       "        vertical-align: top;\n",
       "    }\n",
       "\n",
       "    .dataframe thead th {\n",
       "        text-align: right;\n",
       "    }\n",
       "</style>\n",
       "<table border=\"1\" class=\"dataframe\">\n",
       "  <thead>\n",
       "    <tr style=\"text-align: right;\">\n",
       "      <th></th>\n",
       "      <th>Clogging</th>\n",
       "      <th>Normal</th>\n",
       "    </tr>\n",
       "  </thead>\n",
       "  <tbody>\n",
       "    <tr>\n",
       "      <th>0</th>\n",
       "      <td>1.0</td>\n",
       "      <td>0.0</td>\n",
       "    </tr>\n",
       "    <tr>\n",
       "      <th>1</th>\n",
       "      <td>1.0</td>\n",
       "      <td>0.0</td>\n",
       "    </tr>\n",
       "    <tr>\n",
       "      <th>2</th>\n",
       "      <td>1.0</td>\n",
       "      <td>0.0</td>\n",
       "    </tr>\n",
       "    <tr>\n",
       "      <th>3</th>\n",
       "      <td>1.0</td>\n",
       "      <td>0.0</td>\n",
       "    </tr>\n",
       "    <tr>\n",
       "      <th>4</th>\n",
       "      <td>1.0</td>\n",
       "      <td>0.0</td>\n",
       "    </tr>\n",
       "  </tbody>\n",
       "</table>\n",
       "</div>"
      ],
      "text/plain": [
       "   Clogging  Normal\n",
       "0       1.0     0.0\n",
       "1       1.0     0.0\n",
       "2       1.0     0.0\n",
       "3       1.0     0.0\n",
       "4       1.0     0.0"
      ]
     },
     "execution_count": 6,
     "metadata": {},
     "output_type": "execute_result"
    }
   ],
   "source": [
    "outputs.head()"
   ]
  },
  {
   "cell_type": "code",
   "execution_count": 7,
   "id": "14b3b666",
   "metadata": {},
   "outputs": [],
   "source": [
    "del df, Xp, table, inputs, n_clog, n_normal, outputs"
   ]
  },
  {
   "cell_type": "markdown",
   "id": "95b6ada2",
   "metadata": {},
   "source": [
    "Determine parameters for model training (as reported in the article - ConvLSTM #7):"
   ]
  },
  {
   "cell_type": "code",
   "execution_count": 8,
   "id": "89d602e9",
   "metadata": {},
   "outputs": [],
   "source": [
    "delay = 120 #determines the temporal sample size of each input matrix (as explained in the manuscript)\n",
    "\n",
    "n_features = 4 #number of input variables (as explained in the manuscript)\n",
    "\n",
    "# defines the parameters used in the network\n",
    "ftr_ly_01 = 256 #first layer filters\n",
    "ftr_ly_02 = 16 #second layer filters\n",
    "krn_ly_01 = 5 #first layer kernels\n",
    "krn_ly_02 = 3 #second layer kernels\n",
    "dropout_01 = 0.5 #first dropout layer\n",
    "dense_ly = 200 #dense layer neurons\n",
    "dropout_02 = 0.3 #second dropout layer\n",
    "\n",
    "# defines the lists that will receive the results of the performance criteria of each repetition of the code\n",
    "accuracy_ = list() #to save the accuracy values for each round\n",
    "precision_ = list() #to save the precision values for each round\n",
    "Recall_ = list() #to save the recall values for each round\n",
    "f1_ = list() #to save the F1 values for each round\n",
    "MCC_ = list() #to save the MCC values for each round\n"
   ]
  },
  {
   "cell_type": "markdown",
   "id": "f648e5f3",
   "metadata": {},
   "source": [
    "Neural network training:"
   ]
  },
  {
   "cell_type": "code",
   "execution_count": 9,
   "id": "3df0863d",
   "metadata": {},
   "outputs": [
    {
     "name": "stdout",
     "output_type": "stream",
     "text": [
      "ConvLstm network training - round = 1\n",
      "Model: \"ConvLSTM\"\n",
      "_________________________________________________________________\n",
      "Layer (type)                 Output Shape              Param #   \n",
      "=================================================================\n",
      "conv_lst_m2d_1 (ConvLSTM2D)  (None, 4, 1, 26, 256)     1332224   \n",
      "_________________________________________________________________\n",
      "conv_lst_m2d_2 (ConvLSTM2D)  (None, 1, 24, 16)         52288     \n",
      "_________________________________________________________________\n",
      "dropout_1 (Dropout)          (None, 1, 24, 16)         0         \n",
      "_________________________________________________________________\n",
      "flatten_1 (Flatten)          (None, 384)               0         \n",
      "_________________________________________________________________\n",
      "dense_1 (Dense)              (None, 200)               77000     \n",
      "_________________________________________________________________\n",
      "dropout_2 (Dropout)          (None, 200)               0         \n",
      "_________________________________________________________________\n",
      "dense_2 (Dense)              (None, 2)                 402       \n",
      "=================================================================\n",
      "Total params: 1,461,914\n",
      "Trainable params: 1,461,914\n",
      "Non-trainable params: 0\n",
      "_________________________________________________________________\n",
      "40578/40578 [==============================] - 14s 334us/step\n",
      "Performance parameters of the ConvLstm network (test) - round = 1\n",
      "Accuracy \t  \t \t \t \t 95.123%\n",
      "Precision \t \t \t \t \t 95.397%\n",
      "Recall \t \t \t \t \t \t 97.112%\n",
      "F1 \t \t \t \t \t \t 96.218%\n",
      "MCC \t \t \t \t \t \t 0.903\n",
      "ConvLstm network training - round = 2\n",
      "Model: \"ConvLSTM\"\n",
      "_________________________________________________________________\n",
      "Layer (type)                 Output Shape              Param #   \n",
      "=================================================================\n",
      "conv_lst_m2d_3 (ConvLSTM2D)  (None, 4, 1, 26, 256)     1332224   \n",
      "_________________________________________________________________\n",
      "conv_lst_m2d_4 (ConvLSTM2D)  (None, 1, 24, 16)         52288     \n",
      "_________________________________________________________________\n",
      "dropout_3 (Dropout)          (None, 1, 24, 16)         0         \n",
      "_________________________________________________________________\n",
      "flatten_2 (Flatten)          (None, 384)               0         \n",
      "_________________________________________________________________\n",
      "dense_3 (Dense)              (None, 200)               77000     \n",
      "_________________________________________________________________\n",
      "dropout_4 (Dropout)          (None, 200)               0         \n",
      "_________________________________________________________________\n",
      "dense_4 (Dense)              (None, 2)                 402       \n",
      "=================================================================\n",
      "Total params: 1,461,914\n",
      "Trainable params: 1,461,914\n",
      "Non-trainable params: 0\n",
      "_________________________________________________________________\n",
      "40578/40578 [==============================] - 16s 383us/step\n",
      "Performance parameters of the ConvLstm network (test) - round = 2\n",
      "Accuracy \t  \t \t \t \t 95.197%\n",
      "Precision \t \t \t \t \t 95.955%\n",
      "Recall \t \t \t \t \t \t 97.807%\n",
      "F1 \t \t \t \t \t \t 96.319%\n",
      "MCC \t \t \t \t \t \t 0.905\n",
      "ConvLstm network training - round = 3\n",
      "Model: \"ConvLSTM\"\n",
      "_________________________________________________________________\n",
      "Layer (type)                 Output Shape              Param #   \n",
      "=================================================================\n",
      "conv_lst_m2d_5 (ConvLSTM2D)  (None, 4, 1, 26, 256)     1332224   \n",
      "_________________________________________________________________\n",
      "conv_lst_m2d_6 (ConvLSTM2D)  (None, 1, 24, 16)         52288     \n",
      "_________________________________________________________________\n",
      "dropout_5 (Dropout)          (None, 1, 24, 16)         0         \n",
      "_________________________________________________________________\n",
      "flatten_3 (Flatten)          (None, 384)               0         \n",
      "_________________________________________________________________\n",
      "dense_5 (Dense)              (None, 200)               77000     \n",
      "_________________________________________________________________\n",
      "dropout_6 (Dropout)          (None, 200)               0         \n",
      "_________________________________________________________________\n",
      "dense_6 (Dense)              (None, 2)                 402       \n",
      "=================================================================\n",
      "Total params: 1,461,914\n",
      "Trainable params: 1,461,914\n",
      "Non-trainable params: 0\n",
      "_________________________________________________________________\n",
      "40578/40578 [==============================] - 11s 280us/step\n",
      "Performance parameters of the ConvLstm network (test) - round = 3\n",
      "Accuracy \t  \t \t \t \t 94.674%\n",
      "Precision \t \t \t \t \t 95.884%\n",
      "Recall \t \t \t \t \t \t 96.762%\n",
      "F1 \t \t \t \t \t \t 96.783%\n",
      "MCC \t \t \t \t \t \t 0.894\n",
      "ConvLstm network training - round = 4\n",
      "Model: \"ConvLSTM\"\n",
      "_________________________________________________________________\n",
      "Layer (type)                 Output Shape              Param #   \n",
      "=================================================================\n",
      "conv_lst_m2d_7 (ConvLSTM2D)  (None, 4, 1, 26, 256)     1332224   \n",
      "_________________________________________________________________\n",
      "conv_lst_m2d_8 (ConvLSTM2D)  (None, 1, 24, 16)         52288     \n",
      "_________________________________________________________________\n",
      "dropout_7 (Dropout)          (None, 1, 24, 16)         0         \n",
      "_________________________________________________________________\n",
      "flatten_4 (Flatten)          (None, 384)               0         \n",
      "_________________________________________________________________\n",
      "dense_7 (Dense)              (None, 200)               77000     \n",
      "_________________________________________________________________\n",
      "dropout_8 (Dropout)          (None, 200)               0         \n",
      "_________________________________________________________________\n",
      "dense_8 (Dense)              (None, 2)                 402       \n",
      "=================================================================\n",
      "Total params: 1,461,914\n",
      "Trainable params: 1,461,914\n",
      "Non-trainable params: 0\n",
      "_________________________________________________________________\n",
      "40578/40578 [==============================] - 14s 344us/step\n",
      "Performance parameters of the ConvLstm network (test) - round = 4\n",
      "Accuracy \t  \t \t \t \t 95.165%\n",
      "Precision \t \t \t \t \t 95.161%\n",
      "Recall \t \t \t \t \t \t 97.486%\n",
      "F1 \t \t \t \t \t \t 96.275%\n",
      "MCC \t \t \t \t \t \t 0.904\n",
      "ConvLstm network training - round = 5\n",
      "Model: \"ConvLSTM\"\n",
      "_________________________________________________________________\n",
      "Layer (type)                 Output Shape              Param #   \n",
      "=================================================================\n",
      "conv_lst_m2d_9 (ConvLSTM2D)  (None, 4, 1, 26, 256)     1332224   \n",
      "_________________________________________________________________\n",
      "conv_lst_m2d_10 (ConvLSTM2D) (None, 1, 24, 16)         52288     \n",
      "_________________________________________________________________\n",
      "dropout_9 (Dropout)          (None, 1, 24, 16)         0         \n",
      "_________________________________________________________________\n",
      "flatten_5 (Flatten)          (None, 384)               0         \n",
      "_________________________________________________________________\n",
      "dense_9 (Dense)              (None, 200)               77000     \n",
      "_________________________________________________________________\n",
      "dropout_10 (Dropout)         (None, 200)               0         \n",
      "_________________________________________________________________\n",
      "dense_10 (Dense)             (None, 2)                 402       \n",
      "=================================================================\n",
      "Total params: 1,461,914\n",
      "Trainable params: 1,461,914\n",
      "Non-trainable params: 0\n",
      "_________________________________________________________________\n",
      "40578/40578 [==============================] - 16s 403us/step\n",
      "Performance parameters of the ConvLstm network (test) - round = 5\n",
      "Accuracy \t  \t \t \t \t 95.330%\n",
      "Precision \t \t \t \t \t 95.989%\n",
      "Recall \t \t \t \t \t \t 97.053%\n",
      "F1 \t \t \t \t \t \t 96.454%\n",
      "MCC \t \t \t \t \t \t 0.908\n"
     ]
    }
   ],
   "source": [
    "# defines the number of times the network will be retrained/tested (a kind of k-fold, with k=5)    \n",
    "rounds = 5\n",
    "\n",
    "for r in range(rounds):\n",
    "    \n",
    "    # Perform neural network training and store network test performance\n",
    "    print('ConvLstm network training - round = %d' % (r+1))\n",
    "    accuracy_test, precision_test, recall_test, f1_test, MCC_test = traintest_convlstm(X, r, delay, n_features, ftr_ly_01, ftr_ly_02, krn_ly_01, krn_ly_02, dropout_01, dense_ly, dropout_02)\n",
    "    \n",
    "    print('Performance parameters of the ConvLstm network (test) - round = %d' % (r+1))\n",
    "    # presents the results of the test number \"r\" of the ConvLSTM(256,16) network:\n",
    "    summarize_results_point(accuracy_test, precision_test, recall_test, f1_test, MCC_test)\n",
    "        \n",
    "    # groups the results of each network test\n",
    "    accuracy_.append(accuracy_test)\n",
    "    precision_.append(precision_test)\n",
    "    Recall_.append(recall_test)\n",
    "    f1_.append(f1_test)\n",
    "    MCC_.append(MCC_test)  \n",
    "    "
   ]
  },
  {
   "cell_type": "markdown",
   "id": "14bd6ad0",
   "metadata": {},
   "source": [
    "Presents the final results after testing the ConvLSTM(256,16) network:"
   ]
  },
  {
   "cell_type": "code",
   "execution_count": 11,
   "id": "f4564076",
   "metadata": {},
   "outputs": [
    {
     "name": "stdout",
     "output_type": "stream",
     "text": [
      "Accuracy \t  \t \t \t \t 95.098% (+/-0.223)\n",
      "Precision \t \t \t \t \t 95.677% (+/-0.335)\n",
      "Recall \t \t \t \t \t \t 97.244% (+/-0.364)\n",
      "F1 \t \t \t \t \t \t 96.410% (+/-0.202)\n",
      "MCC \t \t \t \t \t \t 0.903 (+/-0.005)\n"
     ]
    }
   ],
   "source": [
    "summarize_results(accuracy_, precision_, Recall_, f1_, MCC_)"
   ]
  },
  {
   "cell_type": "markdown",
   "id": "5d9f21b0",
   "metadata": {},
   "source": [
    "Post-processing heuristics:"
   ]
  },
  {
   "cell_type": "code",
   "execution_count": 12,
   "id": "f21e1695",
   "metadata": {},
   "outputs": [],
   "source": [
    "#1 - separates train, valid, test_complete dataset\n",
    "\n",
    "# X_train - dataset of inputs used for training the network\n",
    "# y_train - dataset of outputs used in training the network\n",
    "# X_valid - dataset of inputs used for validation during network training\n",
    "# y_valid - dataset of outputs used for validation in network training\n",
    "# X_test - dataset of inputs used for network tests\n",
    "# y_test - dataset of outputs used for network testing\n",
    "\n",
    "X_train, y_train, X_valid, y_valid, X_test, y_test = split_dataset(X, delay, n_features)"
   ]
  },
  {
   "cell_type": "code",
   "execution_count": 13,
   "id": "e80f1a6e",
   "metadata": {},
   "outputs": [
    {
     "name": "stdout",
     "output_type": "stream",
     "text": [
      "Model: \"ConvLSTM\"\n",
      "_________________________________________________________________\n",
      "Layer (type)                 Output Shape              Param #   \n",
      "=================================================================\n",
      "conv_lst_m2d_11 (ConvLSTM2D) (None, 4, 1, 26, 256)     1332224   \n",
      "_________________________________________________________________\n",
      "conv_lst_m2d_12 (ConvLSTM2D) (None, 1, 24, 16)         52288     \n",
      "_________________________________________________________________\n",
      "dropout_11 (Dropout)         (None, 1, 24, 16)         0         \n",
      "_________________________________________________________________\n",
      "flatten_6 (Flatten)          (None, 384)               0         \n",
      "_________________________________________________________________\n",
      "dense_11 (Dense)             (None, 200)               77000     \n",
      "_________________________________________________________________\n",
      "dropout_12 (Dropout)         (None, 200)               0         \n",
      "_________________________________________________________________\n",
      "dense_12 (Dense)             (None, 2)                 402       \n",
      "=================================================================\n",
      "Total params: 1,461,914\n",
      "Trainable params: 1,461,914\n",
      "Non-trainable params: 0\n",
      "_________________________________________________________________\n"
     ]
    }
   ],
   "source": [
    "#2 - train a convlstm network with X_train, y_train, X_valid, y_valid and return the model\n",
    "model = convlstm(X_train, y_train, X_valid, y_valid, delay, n_features, ftr_ly_01, ftr_ly_02, krn_ly_01, krn_ly_02, dropout_01, dense_ly, dropout_02)   \n"
   ]
  },
  {
   "cell_type": "code",
   "execution_count": 17,
   "id": "56348d3c",
   "metadata": {},
   "outputs": [],
   "source": [
    "# 2.1 - save the model (optional)\n",
    "# model.save('convlstm_save.h5')\n",
    "\n",
    "# 2.2 - load the model (optional)\n",
    "# model = tf.keras.models.load_model('convlstm_save.h5')"
   ]
  },
  {
   "cell_type": "code",
   "execution_count": 18,
   "id": "d706a34e",
   "metadata": {},
   "outputs": [
    {
     "name": "stdout",
     "output_type": "stream",
     "text": [
      "40578/40578 [==============================] - 11s 273us/sample\n"
     ]
    }
   ],
   "source": [
    "# 3 - apply test set to the network with heuristics\n",
    "accuracy_t, precision_t, recall_t, f1_t, MCC_t, accuracy_h, precision_h, recall_h, f1_h, MCC_h = convlstm_heuristic(X_test, y_test, model)"
   ]
  },
  {
   "cell_type": "markdown",
   "id": "70759f48",
   "metadata": {},
   "source": [
    "Overall ConvLSTM 7 Result before post-processing heuristics:"
   ]
  },
  {
   "cell_type": "code",
   "execution_count": 21,
   "id": "57a53b44",
   "metadata": {},
   "outputs": [
    {
     "name": "stdout",
     "output_type": "stream",
     "text": [
      "Before Heuristic:\n",
      "Accuracy \t  \t \t \t \t 96.165%\n",
      "Precision \t \t \t \t \t 95.767%\n",
      "Recall \t \t \t \t \t \t 97.906%\n",
      "F1 \t \t \t \t \t \t 96.268%\n",
      "MCC \t \t \t \t \t \t 0.925\n"
     ]
    }
   ],
   "source": [
    "print('Before Heuristic:')\n",
    "summarize_results_point(accuracy_t, precision_t, recall_t, f1_t, MCC_t)"
   ]
  },
  {
   "cell_type": "markdown",
   "id": "913a1798",
   "metadata": {},
   "source": [
    "Overall ConvLSTM 7 Result after post-processing heuristics:"
   ]
  },
  {
   "cell_type": "code",
   "execution_count": 22,
   "id": "2586c409",
   "metadata": {},
   "outputs": [
    {
     "name": "stdout",
     "output_type": "stream",
     "text": [
      "After Heuristic:\n",
      "Accuracy \t  \t \t \t \t 99.869%\n",
      "Precision \t \t \t \t \t 97.938%\n",
      "Recall \t \t \t \t \t \t 98.616%\n",
      "F1 \t \t \t \t \t \t 98.276%\n",
      "MCC \t \t \t \t \t \t 0.982\n"
     ]
    }
   ],
   "source": [
    "print('After Heuristic:')\n",
    "summarize_results_point(accuracy_h, precision_h, recall_h, f1_h, MCC_h)"
   ]
  }
 ],
 "metadata": {
  "kernelspec": {
   "display_name": "Python 3",
   "language": "python",
   "name": "python3"
  },
  "language_info": {
   "codemirror_mode": {
    "name": "ipython",
    "version": 3
   },
   "file_extension": ".py",
   "mimetype": "text/x-python",
   "name": "python",
   "nbconvert_exporter": "python",
   "pygments_lexer": "ipython3",
   "version": "3.6.13"
  }
 },
 "nbformat": 4,
 "nbformat_minor": 5
}
